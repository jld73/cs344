{
 "cells": [
  {
   "cell_type": "markdown",
   "metadata": {
    "collapsed": true
   },
   "source": [
    "Excercise 1"
   ]
  },
  {
   "cell_type": "code",
   "execution_count": 1,
   "metadata": {},
   "outputs": [
    {
     "name": "stdout",
     "output_type": "stream",
     "text": [
      "Both 0.004469273743016757\n",
      "Spam 0.99999896939091\n",
      "Ham 0.01\n"
     ]
    }
   ],
   "source": [
    "from probability import BayesNet, enumeration_ask, elimination_ask, gibbs_ask\n",
    "import math\n",
    "\n",
    "# Utility variables\n",
    "T, F = True, False\n",
    "\n",
    "spam_corpus = [[\"i\", \"am\", \"spam\", \"spam\", \"i\", \"am\"], [\"i\", \"do\", \"not\", \"like\", \"that\", \"spamiam\"]]\n",
    "ham_corpus = [[\"do\", \"i\", \"like\", \"green\", \"eggs\", \"and\", \"ham\"], [\"i\", \"do\"]]\n",
    "\n",
    "tokens = []\n",
    "\n",
    "spam_hash = {}\n",
    "for m in spam_corpus:\n",
    "    for w in m:\n",
    "        if w in spam_hash:\n",
    "            spam_hash[w] += 1\n",
    "        else:\n",
    "            spam_hash[w] = 1\n",
    "        if not w in tokens:\n",
    "            tokens.append(w)\n",
    "\n",
    "ham_hash = {}\n",
    "for m in ham_corpus:\n",
    "    for w in m:\n",
    "        if w in ham_hash:\n",
    "            ham_hash[w] += 1\n",
    "        else:\n",
    "            ham_hash[w] = 1\n",
    "        if not w in tokens:\n",
    "            tokens.append(w)\n",
    "\n",
    "\n",
    "probs = {}\n",
    "for t in tokens:\n",
    "    g = 0\n",
    "    if t in ham_hash:\n",
    "        g = ham_hash[t] * 2\n",
    "\n",
    "    b = 0\n",
    "    if t in spam_hash:\n",
    "        b = spam_hash[t] * 2\n",
    "\n",
    "    if b + g < 1:\n",
    "        continue\n",
    "\n",
    "    probs[t] = max(.01, min(.99, float(min(1.0, b / 2) / (min(1.0, g / 2) + min(1.0, b / 2)))))\n",
    "\n",
    "\n",
    "def analyze(message):\n",
    "    prod = 1\n",
    "    for w in message:\n",
    "        if w not in probs:\n",
    "            prod *= .4\n",
    "        else:\n",
    "            prod *= probs[w]\n",
    "    inv_prod = 1\n",
    "    for w in message:\n",
    "        if w not in probs:\n",
    "            inv_prod *= .6\n",
    "        else:\n",
    "            inv_prod *= 1 - probs[w]\n",
    "\n",
    "    return prod / (prod + inv_prod)\n",
    "\n",
    "\n",
    "m1 = ['i', 'would', 'like', 'some', 'eggs', 'not', 'ham']\n",
    "m2 = ['i', 'am', 'not', 'spam']\n",
    "m3 = ['i', 'like', 'ham']\n",
    "\n",
    "print(\"Both\", analyze(m1))\n",
    "print(\"Spam\", analyze(m2))\n",
    "print(\"Ham\", analyze(m3))\n"
   ]
  },
  {
   "cell_type": "markdown",
   "metadata": {},
   "source": [
    "This is Baysian in the way that it calculates the probabilities"
   ]
  },
  {
   "cell_type": "markdown",
   "metadata": {},
   "source": [
    "Excercise 2"
   ]
  },
  {
   "cell_type": "markdown",
   "metadata": {},
   "source": [
    "i) < .5, .5 >, From table\n",
    "\n",
    "ii) < .1, .9 >, From table\n",
    "\n",
    "iii) P(C | S ^ -R)\n",
    "A * P(C ^ S ^ -R) = A * P(C) * P(S | C) * P(-R | C)\n",
    "                   A * .5 * .1 * .2 = .01\n",
    "                   A * P(-C) * P(S | -C) * P(-R | -C)\n",
    "                   A * .5 * .5 * .8 = .2\n",
    "    .01 / (.2 + .01) = .0476\n",
    "    .20 / (.2 + .01) = .9524\n",
    "    < .953, .047 >\n",
    "                   \n",
    "iv) < .99, .01 >, From table\n",
    "\n",
    "v) P(C | -W)\n",
    "= A * P(C ^ -W)\n",
    "= A * P(C) * P(-W | C)\n",
    "= A * < P(C) * P(-W|C), P(-C) * P(-W|-C) >\n",
    "= A * < P(-W|C), P(-W|-C) >\n",
    "\n",
    "P(-W|C) = SumS(SumR(P(S^R|C) * P(-W|S^R)))\n",
    "\n",
    "A * < .08*.01 + .02*.1 + .72*.1 + .18*1, .1*.01 + .4*.1 + .1*.1 + .4*1 >\n",
    "A * < .2548, .451 >\n",
    "< .361, .639 >"
   ]
  },
  {
   "cell_type": "code",
   "execution_count": 14,
   "metadata": {},
   "outputs": [
    {
     "name": "stdout",
     "output_type": "stream",
     "text": [
      "False: 0.5, True: 0.5\n",
      "False: 0.9, True: 0.1\n",
      "False: 0.952, True: 0.0476\n",
      "False: 0.01, True: 0.99\n",
      "False: 0.639, True: 0.361\n"
     ]
    }
   ],
   "source": [
    "weather = BayesNet([\n",
    "    ('Cloudy', '', 0.5),\n",
    "    ('Sprinkler', 'Cloudy', {T: 0.10, F: 0.5}),\n",
    "    ('Rain', 'Cloudy', {T: 0.80, F: 0.2}),\n",
    "    ('Wet', 'Sprinkler Rain', {(T, T): 0.99, (T, F): 0.90, (F, T): 0.90, (F, F): 0.00})\n",
    "    ])\n",
    "\n",
    "print(enumeration_ask('Cloudy', dict(), weather).show_approx())\n",
    "print(enumeration_ask('Sprinkler', dict(Cloudy=T), weather).show_approx())\n",
    "print(enumeration_ask('Cloudy', dict(Sprinkler=T, Rain=F), weather).show_approx())\n",
    "print(enumeration_ask('Wet', dict(Sprinkler=T, Rain=T, Couldy=T), weather).show_approx())\n",
    "print(enumeration_ask('Cloudy', dict(Wet=F), weather).show_approx())"
   ]
  }
 ],
 "metadata": {
  "kernelspec": {
   "display_name": "Python 3",
   "language": "python",
   "name": "python3"
  },
  "language_info": {
   "codemirror_mode": {
    "name": "ipython",
    "version": 3
   },
   "file_extension": ".py",
   "mimetype": "text/x-python",
   "name": "python",
   "nbconvert_exporter": "python",
   "pygments_lexer": "ipython3",
   "version": "3.5.2"
  }
 },
 "nbformat": 4,
 "nbformat_minor": 1
}
