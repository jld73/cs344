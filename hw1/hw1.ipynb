{
 "cells": [
  {
   "cell_type": "markdown",
   "metadata": {},
   "source": [
    "1.1:\n",
    "\n",
    "I think that if it is possible to create an artificial intelligence capable of thinking humanly, it would definitely need to have the capability of introspection. I think this is quite clear by definition; humans are able to introspect, therefore artificial intelligence to mimic humans should also have introspection. Of course, this question hinges on the idea that AI will eventually be able to fully (or nearly) copy human thought.\n",
    "\n",
    "The more interesting question, then, is whether introspection has any bearing on current state of AI. It is certainly concievable that an AI equipped with introspection may be able to outclass another by using introspection to understand when it's making a mistake such as a false assumption. The bigger issue, though, is that nueral network based AI tends to be highly performance heavy, especially during the training process. Because of this, it is common practice to reduce the input data as much as possible while still retaining the necessary information. By this logic, adding the capacity for introspection would likely increase the complexity of the AI, making it slower to train and less likely to find the best solutions.\n",
    "\n",
    "Another question here is whether we can even choose whether introspection is possible (at least in the realm of neural networks). A NN with enough neurons could build up a solution generating portion, and devote the rest to monitor the process, essentially being introspective to the thought process. Of course, the introspection would have to be helpful in order for it to develop through standard training methods, which would kind of answer the question itself.\n",
    "\n",
    "Overall, I do think that the idea of introspection is important to consider when thinking about AI, but whether or not it is a good practice or model has yet to be seen as far as I'm aware."
   ]
  },
  {
   "cell_type": "markdown",
   "metadata": {},
   "source": [
    "1.2:\n",
    "\n",
    "The state is a list describing the order in which the cities are visited.\n",
    "The map is a list of cities, which are represented as a list of distances to the other cities\n",
    "Actions involve swapping the order of two cities"
   ]
  },
  {
   "cell_type": "code",
   "execution_count": 1,
   "metadata": {},
   "outputs": [],
   "source": [
    "\n",
    "\n",
    "from search import Problem, hill_climbing, simulated_annealing, exp_schedule\n",
    "import itertools\n",
    "import math\n",
    "\n",
    "\n",
    "class TSP(Problem):\n",
    "    \"\"\"An implementation of Travelling Salesperson Problem\n",
    "\n",
    "    State representation:\n",
    "        [n1, n2, n3...] gives the order in which the cities are visited\n",
    "    Move representation:\n",
    "        [x, y]: Swap the order of visit x with visit y\n",
    "    \"\"\"\n",
    "\n",
    "    def __init__(self):\n",
    "        \"\"\"The distance from node x to node y is map[x][y] or map[y][x]\"\"\"\n",
    "        self.map = [(0, 11, 29, 15, 6), (11, 0, 37, 42, 12), (29, 37, 0, 54, 2), (15, 42, 54, 0, 6), (6, 12, 2, 6, 0)]\n",
    "        self.initial = [0, 1, 2, 3, 4]\n",
    "\n",
    "    def actions(self, state):\n",
    "        \"\"\"Actions will swap the order of two moves\n",
    "        \"\"\"\n",
    "        actions = []\n",
    "        for i in range(len(self.initial)):\n",
    "            for j in range(len(self.initial)):\n",
    "                if i != j:\n",
    "                    actions.append([i, j])\n",
    "        return actions\n",
    "\n",
    "    def result(self, state, move):\n",
    "        \"\"\"Makes the given swap on a copy of the given state.\"\"\"\n",
    "        new_state = list(state)\n",
    "        i = new_state[move[0]]\n",
    "        new_state[move[0]] = new_state[move[1]]\n",
    "        new_state[move[1]] = i;\n",
    "        return new_state\n",
    "\n",
    "    def value(self, state):\n",
    "        \"\"\"This method computes a value of given state based on the negative distance\n",
    "        \"\"\"\n",
    "        value = 0\n",
    "        for i in range(len(state)):\n",
    "            value -= self.map[state[i]][state[(i + 1) % len(state)]]\n",
    "\n",
    "        return value"
   ]
  },
  {
   "cell_type": "code",
   "execution_count": 3,
   "metadata": {},
   "outputs": [
    {
     "name": "stdout",
     "output_type": "stream",
     "text": [
      "Hill-climbing solution       x: [2, 1, 0, 3, 4]\tvalue: -71\n",
      "Simulated annealing solution x: [1, 0, 3, 4, 2]\tvalue: -71\n"
     ]
    }
   ],
   "source": [
    "p = TSP()\n",
    "\n",
    "# Solve the problem using hill-climbing.\n",
    "hill_solution = hill_climbing(p)\n",
    "print('Hill-climbing solution       x: ' + str(hill_solution)\n",
    "      + '\\tvalue: ' + str(p.value(hill_solution))\n",
    "      )\n",
    "\n",
    "# Solve the problem using simulated annealing.\n",
    "annealing_solution = simulated_annealing(\n",
    "    p,\n",
    "    exp_schedule(k=20, lam=0.005, limit=1000)\n",
    ")\n",
    "print('Simulated annealing solution x: ' + str(annealing_solution)\n",
    "      + '\\tvalue: ' + str(p.value(annealing_solution))\n",
    "      )\n"
   ]
  },
  {
   "cell_type": "markdown",
   "metadata": {},
   "source": [
    "1.3\n",
    "I chose this implementation because it was the only one that I could get to work."
   ]
  },
  {
   "cell_type": "code",
   "execution_count": 10,
   "metadata": {},
   "outputs": [],
   "source": [
    "from csp import min_conflicts, backtracking_search, AC3, CSP, forward_checking\n",
    "from search import depth_first_graph_search\n",
    "from collections import defaultdict\n",
    "\n",
    "def Schedule():\n",
    "    \"\"\"Return an instance of the Schedule problem.\"\"\"\n",
    "    Profs = 'Plantinga Norman Schuurman Adams'.split()\n",
    "    Courses = '108 112 212 214 336 384 395'.split()\n",
    "    Times = '9mwf 1030mwf 1130mwf 1030tth 130tth'.split()\n",
    "    Rooms = 'nh253 sb384'.split()\n",
    "    variables = list(Courses)\n",
    "    domainsList = []\n",
    "    for x in Profs:\n",
    "        for y in Times:\n",
    "            for z in Rooms:\n",
    "                # Append the domains as a comma-separated string\n",
    "                domainsList.append(x + \",\" + y + \",\" + z)\n",
    "                \n",
    "    domains = {}\n",
    "    for var in variables:\n",
    "        domains[var] = domainsList\n",
    "\n",
    "    # Generate list of neighbors\n",
    "    neighbors = defaultdict(list)\n",
    "    for type in [Courses, domainsList]:\n",
    "        for A in type:\n",
    "            for B in type:\n",
    "                if A != B:\n",
    "                    if B not in neighbors[A]:\n",
    "                        neighbors[A].append(B)\n",
    "                    if A not in neighbors[B]:\n",
    "                        neighbors[B].append(A)\n",
    "\n",
    "    # Prints out debug information as the program runs (if class_constraint is replaced)\n",
    "    def dbg(A, a, B, b):\n",
    "        print(A, a, B, b)\n",
    "        s = class_constraint(A, a, B, b)\n",
    "        print(s)\n",
    "        return s\n",
    "\n",
    "    # Checks constraints\n",
    "    def class_constraint(A, a, B, b):\n",
    "        al = a.split(',')\n",
    "        bl = b.split(',')\n",
    "\n",
    "        # if Prof the same, ensure time is different\n",
    "        if al[0] == bl[0] and al[1] == bl[1]:\n",
    "            return False\n",
    "        # if Time the same, ensure room and prof are different\n",
    "        if al[1] == bl[1]:\n",
    "            if al[2] == bl[2] or al[0] == bl[0]:\n",
    "                return False\n",
    "\n",
    "        # if Room the same, ensure time is different\n",
    "        if al[2] == bl[2] and al[1] == bl[1]:\n",
    "            return False\n",
    "\n",
    "        # Ensure all professors teach the correct classes\n",
    "        if al[0] == 'Plantinga' and A not in ('212', '395'):\n",
    "            return False\n",
    "        if al[0] == 'Norman' and A not in ('336', '108'):\n",
    "            return False\n",
    "        if al[0] == 'Schuurman' and A not in ('384', '108'):\n",
    "            return False\n",
    "        if al[0] == 'Adams' and A not in ('112', '214'):\n",
    "            return False\n",
    "        if bl[0] == 'Plantinga' and B not in ('212', '395'):\n",
    "            return False\n",
    "        if bl[0] == 'Norman' and B not in ('336', '108'):\n",
    "            return False\n",
    "        if bl[0] == 'Schuurman' and B not in ('384', '108'):\n",
    "            return False\n",
    "        if bl[0] == 'Adams' and B not in ('112', '214'):\n",
    "            return False\n",
    "        \n",
    "        # If no constraints failed, return true\n",
    "        return True\n",
    "    \n",
    "    return CSP(variables, domains, neighbors, class_constraint)"
   ]
  },
  {
   "cell_type": "code",
   "execution_count": 11,
   "metadata": {},
   "outputs": [
    {
     "name": "stdout",
     "output_type": "stream",
     "text": [
      "{'212': 'Plantinga,1030mwf,nh253', '384': 'Schuurman,1130mwf,sb384', '214': 'Adams,1030mwf,sb384', '336': 'Norman,1130mwf,nh253', '395': 'Plantinga,1030tth,nh253', '112': 'Adams,9mwf,sb384', '108': 'Norman,9mwf,nh253'}\n"
     ]
    }
   ],
   "source": [
    "problem = Schedule()\n",
    "\n",
    "solution = backtracking_search(problem, inference=forward_checking)\n",
    "#solution = min_conflicts(problem)\n",
    "\n",
    "print(solution)\n"
   ]
  }
 ],
 "metadata": {
  "kernelspec": {
   "display_name": "Python 3",
   "language": "python",
   "name": "python3"
  },
  "language_info": {
   "codemirror_mode": {
    "name": "ipython",
    "version": 3
   },
   "file_extension": ".py",
   "mimetype": "text/x-python",
   "name": "python",
   "nbconvert_exporter": "python",
   "pygments_lexer": "ipython3",
   "version": "3.5.2"
  }
 },
 "nbformat": 4,
 "nbformat_minor": 1
}
